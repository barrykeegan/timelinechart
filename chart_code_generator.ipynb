{
 "cells": [
  {
   "cell_type": "markdown",
   "metadata": {},
   "source": [
    "# Timeline Data Translation From CSV to Google Charts Format\n",
    "<p>Open company's text file with dates etc, converte to Google Charts Format.</p>\n",
    "<p>Format of input CSV is: \"Company Name\",\"Start Date\",\"End Date\"</p>\n",
    "<p>Where a company had a name change, format is: \"FORMERLY: Company Name\",\"Start Date\",\"End Date\",\"CURRENTLY: Company Name\",\"Start Date\",\"End Date\"</p>\n"
   ]
  },
  {
   "cell_type": "code",
   "execution_count": 1,
   "metadata": {},
   "outputs": [],
   "source": [
    "colorsList = [\n",
    "    [\"c7e8ac\", \"a3d977\", \"7ab648\"],\n",
    "    [\"c1e4f7\", \"99d2f2\", \"3aa6dd\"],\n",
    "    [\"ffbbb1\", \"ff8f80\", \"c92d39\"],\n",
    "    [\"ffdba9\", \"ffc374\", \"ef8d22\"],\n",
    "    [\"d1bcd2\", \"b391b5\", \"834187\"],\n",
    "    [\"f9d2de\", \"f5b5c8\", \"de5f85\"],\n",
    "    [\"ffeca9\", \"ffdf71\", \"fcc438\"],\n",
    "    [\"b2d6ef\", \"83bbe5\", \"0c7cba\"],\n",
    "    [\"99d5ca\", \"5abaa7\", \"19967d\"]\n",
    "]\n",
    "\n",
    "def generate_date(date):\n",
    "    '''Requires list with date in Year, Month, Day order'''\n",
    "    if len(date) < 3:\n",
    "        raise Exception(\"Date not in correct format\")\n",
    "    return \"new Date(\" + date[0] + \", \" + str(int(date[1])-1) + \", \" + str(int(date[2])) + \")\"\n",
    "\n",
    "def generate_row(rowFields, label):\n",
    "    if len(rowFields) < 3:\n",
    "        raise Exception(\"Row not in correct format\")\n",
    "    companyName = rowFields[0]\n",
    "    startDate = rowFields[1].split('-')\n",
    "    endDate = rowFields[2].split('-')\n",
    "    returnRow = \"  [ '\" + label + \"', '\" + companyName + \"', \" + generate_date(startDate) + \", \" + generate_date(endDate) + \" ],\\n\"\n",
    "    return returnRow\n",
    "\n",
    "def generate_rows(rowFields):\n",
    "    if len(rowFields) < 3:\n",
    "        raise Exception(\"Row not in correct format\")\n",
    "    returnRows = \"\"\n",
    "    rowLabel = rowFields[0]\n",
    "    while(len(rowFields) >= 3):\n",
    "        returnRows += generate_row(rowFields[:3], rowLabel)\n",
    "        if len(rowFields) > 3:\n",
    "            rowFields = rowFields[3:]\n",
    "        else:\n",
    "            rowFields = []\n",
    "    return returnRows\n",
    "\n",
    "def generate_colors(rows):\n",
    "    colorsListRow=0\n",
    "    returnColors = \"colors: [\"\n",
    "    for row in rows:\n",
    "        rowValues = row.split(',')\n",
    "        colorGradient = 0\n",
    "        while(len(rowValues) >= 3):\n",
    "            returnColors += \"'\" + colorsList[colorsListRow][colorGradient] + \"', \"\n",
    "            if len(rowValues) > 3:\n",
    "                rowValues = rowValues[3:]\n",
    "                colorGradient = (colorGradient + 1) % 3\n",
    "            else:\n",
    "                rowValues = []\n",
    "                colorGradient=0\n",
    "                colorsListRow = (colorsListRow + 1) % len(colorsList)\n",
    "    returnColors += \"],\"\n",
    "    return returnColors"
   ]
  },
  {
   "cell_type": "code",
   "execution_count": 2,
   "metadata": {},
   "outputs": [
    {
     "name": "stdout",
     "output_type": "stream",
     "text": [
      "['ENTITY 1A,2014-03-18,2017-10-19,ENTITY 1B,2017-10-19,2018-05-22', 'ENTITY 2A,2015-08-01,2019-11-10', 'ENTITY 3A,2013-02-28,2015-9-11,ENTITY 3B,2015-9-11,2016-12-25,ENTITY 3C,2016-12-25,2019-07-21', 'ENTITY 4,2016-03-18,2020-05-13', 'ENTITY 5,2017-04-01,2020-10-21']\n"
     ]
    }
   ],
   "source": [
    "companyRows = [line.rstrip().upper() for line in open( \"timelinedataSampleChart.txt\" )]\n",
    "print(companyRows)"
   ]
  },
  {
   "cell_type": "code",
   "execution_count": 3,
   "metadata": {},
   "outputs": [
    {
     "name": "stdout",
     "output_type": "stream",
     "text": [
      "dataTable.addColumn({ type: 'string', id: 'RowLabel' });\n",
      "dataTable.addColumn({ type: 'string', id: 'Company' });\n",
      "dataTable.addColumn({ type: 'date', id: 'Start' });\n",
      "dataTable.addColumn({ type: 'date', id: 'End' });\n",
      "dataTable.addRows([\n",
      "  [ 'ENTITY 1A', 'ENTITY 1A', new Date(2014, 2, 18), new Date(2017, 9, 19) ],\n",
      "  [ 'ENTITY 1A', 'ENTITY 1B', new Date(2017, 9, 19), new Date(2018, 4, 22) ],\n",
      "  [ 'ENTITY 2A', 'ENTITY 2A', new Date(2015, 7, 1), new Date(2019, 10, 10) ],\n",
      "  [ 'ENTITY 3A', 'ENTITY 3A', new Date(2013, 1, 28), new Date(2015, 8, 11) ],\n",
      "  [ 'ENTITY 3A', 'ENTITY 3B', new Date(2015, 8, 11), new Date(2016, 11, 25) ],\n",
      "  [ 'ENTITY 3A', 'ENTITY 3C', new Date(2016, 11, 25), new Date(2019, 6, 21) ],\n",
      "  [ 'ENTITY 4', 'ENTITY 4', new Date(2016, 2, 18), new Date(2020, 4, 13) ],\n",
      "  [ 'ENTITY 5', 'ENTITY 5', new Date(2017, 3, 1), new Date(2020, 9, 21) ],\n",
      "]);\n",
      "\n",
      "var options = {\n",
      "  timeline: { showRowLabels: false },\n",
      "  colors: ['c7e8ac', 'a3d977', 'c1e4f7', 'ffbbb1', 'ff8f80', 'c92d39', 'ffdba9', 'd1bcd2', ],\n",
      "};\n"
     ]
    }
   ],
   "source": [
    "output = \"dataTable.addColumn({ type: 'string', id: 'RowLabel' });\\n\"\n",
    "output += \"dataTable.addColumn({ type: 'string', id: 'Company' });\\n\"\n",
    "output += \"dataTable.addColumn({ type: 'date', id: 'Start' });\\n\"\n",
    "output += \"dataTable.addColumn({ type: 'date', id: 'End' });\\n\"\n",
    "output += \"dataTable.addRows([\\n\"\n",
    "\n",
    "for row in companyRows:\n",
    "    rowFields = row.split(',')\n",
    "    output += generate_rows(rowFields)\n",
    "output += \"]);\"\n",
    "\n",
    "output += \"\\n\\nvar options = {\\n  \"\n",
    "output += \"timeline: { showRowLabels: false },\\n  \" \n",
    "output += generate_colors(companyRows) + \"\\n};\"\n",
    "\n",
    "print(output)"
   ]
  },
  {
   "cell_type": "markdown",
   "metadata": {},
   "source": [
    "## Some function tests"
   ]
  },
  {
   "cell_type": "code",
   "execution_count": 4,
   "metadata": {},
   "outputs": [
    {
     "data": {
      "text/plain": [
       "'new Date(2020, 10, 8)'"
      ]
     },
     "execution_count": 4,
     "metadata": {},
     "output_type": "execute_result"
    }
   ],
   "source": [
    "generate_date([\"2020\", \"11\", \"08\"])"
   ]
  }
 ],
 "metadata": {
  "kernelspec": {
   "display_name": "Python 3",
   "language": "python",
   "name": "python3"
  },
  "language_info": {
   "codemirror_mode": {
    "name": "ipython",
    "version": 3
   },
   "file_extension": ".py",
   "mimetype": "text/x-python",
   "name": "python",
   "nbconvert_exporter": "python",
   "pygments_lexer": "ipython3",
   "version": "3.8.3"
  }
 },
 "nbformat": 4,
 "nbformat_minor": 4
}
